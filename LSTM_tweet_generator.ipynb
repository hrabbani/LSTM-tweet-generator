{
  "nbformat": 4,
  "nbformat_minor": 0,
  "metadata": {
    "colab": {
      "name": "LSTM-tweet-generator",
      "provenance": [],
      "collapsed_sections": []
    },
    "kernelspec": {
      "name": "python3",
      "display_name": "Python 3"
    }
  },
  "cells": [
    {
      "cell_type": "markdown",
      "metadata": {
        "id": "6oLghViJdCUK"
      },
      "source": [
        "1. Got raw tweet data.\n",
        "2. Tokenized the texts - used Keras fit_on_texts() and fit_on_sequences() methods\n",
        "3. Used word2vec to capture relationships between words\n",
        "4. Constructed and trained custom LSTM generative model."
      ]
    },
    {
      "cell_type": "code",
      "metadata": {
        "id": "9NH91yU4ADF7"
      },
      "source": [
        "import pandas as pd\n",
        "import numpy as np\n",
        "import re\n",
        "import gensim\n",
        "import tensorflow as tf\n",
        "import random\n",
        "import sys\n",
        "from keras.callbacks import ModelCheckpoint"
      ],
      "execution_count": null,
      "outputs": []
    },
    {
      "cell_type": "code",
      "metadata": {
        "id": "PdzmxcBiZLnJ"
      },
      "source": [
        "from keras.layers.recurrent import LSTM\n",
        "from keras.layers.embeddings import Embedding\n",
        "from keras.models import Model, Sequential\n",
        "from keras.layers import Dense, Activation\n",
        "from __future__ import print_function\n",
        "from keras.callbacks import LambdaCallback\n",
        "from keras.layers import Dropout\n",
        "from keras.optimizers import RMSprop\n",
        "from keras.optimizers import Adam"
      ],
      "execution_count": null,
      "outputs": []
    },
    {
      "cell_type": "code",
      "metadata": {
        "id": "eXYFB2k1JGTZ"
      },
      "source": [
        "#importing\n",
        "url = 'https://raw.githubusercontent.com/hrabbani/elon/master/data_elonmusk.csv'\n",
        "\n",
        "data = pd.read_csv(url, encoding = 'ISO-8859-1')"
      ],
      "execution_count": null,
      "outputs": []
    },
    {
      "cell_type": "code",
      "metadata": {
        "id": "BK4J0sxTKzrr",
        "colab": {
          "base_uri": "https://localhost:8080/",
          "height": 419
        },
        "outputId": "d235162c-1dae-4820-fceb-d67db125495e"
      },
      "source": [
        "data"
      ],
      "execution_count": null,
      "outputs": [
        {
          "output_type": "execute_result",
          "data": {
            "text/html": [
              "<div>\n",
              "<style scoped>\n",
              "    .dataframe tbody tr th:only-of-type {\n",
              "        vertical-align: middle;\n",
              "    }\n",
              "\n",
              "    .dataframe tbody tr th {\n",
              "        vertical-align: top;\n",
              "    }\n",
              "\n",
              "    .dataframe thead th {\n",
              "        text-align: right;\n",
              "    }\n",
              "</style>\n",
              "<table border=\"1\" class=\"dataframe\">\n",
              "  <thead>\n",
              "    <tr style=\"text-align: right;\">\n",
              "      <th></th>\n",
              "      <th>row ID</th>\n",
              "      <th>Tweet</th>\n",
              "      <th>Time</th>\n",
              "      <th>Retweet from</th>\n",
              "      <th>User</th>\n",
              "    </tr>\n",
              "  </thead>\n",
              "  <tbody>\n",
              "    <tr>\n",
              "      <th>0</th>\n",
              "      <td>Row0</td>\n",
              "      <td>@MeltingIce Assuming max acceleration of 2 to ...</td>\n",
              "      <td>2017-09-29 17:39:19</td>\n",
              "      <td>NaN</td>\n",
              "      <td>elonmusk</td>\n",
              "    </tr>\n",
              "    <tr>\n",
              "      <th>1</th>\n",
              "      <td>Row1</td>\n",
              "      <td>RT @SpaceX: BFR is capable of transporting sat...</td>\n",
              "      <td>2017-09-29 10:44:54</td>\n",
              "      <td>SpaceX</td>\n",
              "      <td>elonmusk</td>\n",
              "    </tr>\n",
              "    <tr>\n",
              "      <th>2</th>\n",
              "      <td>Row2</td>\n",
              "      <td>@bigajm Yup :)</td>\n",
              "      <td>2017-09-29 10:39:57</td>\n",
              "      <td>NaN</td>\n",
              "      <td>elonmusk</td>\n",
              "    </tr>\n",
              "    <tr>\n",
              "      <th>3</th>\n",
              "      <td>Row3</td>\n",
              "      <td>Part 2 https://t.co/8Fvu57muhM</td>\n",
              "      <td>2017-09-29 09:56:12</td>\n",
              "      <td>NaN</td>\n",
              "      <td>elonmusk</td>\n",
              "    </tr>\n",
              "    <tr>\n",
              "      <th>4</th>\n",
              "      <td>Row4</td>\n",
              "      <td>Fly to most places on Earth in under 30 mins a...</td>\n",
              "      <td>2017-09-29 09:19:21</td>\n",
              "      <td>NaN</td>\n",
              "      <td>elonmusk</td>\n",
              "    </tr>\n",
              "    <tr>\n",
              "      <th>...</th>\n",
              "      <td>...</td>\n",
              "      <td>...</td>\n",
              "      <td>...</td>\n",
              "      <td>...</td>\n",
              "      <td>...</td>\n",
              "    </tr>\n",
              "    <tr>\n",
              "      <th>3213</th>\n",
              "      <td>Row3213</td>\n",
              "      <td>@YOUSRC Amos's article was fair, but his edito...</td>\n",
              "      <td>2012-11-20 08:52:03</td>\n",
              "      <td>NaN</td>\n",
              "      <td>elonmusk</td>\n",
              "    </tr>\n",
              "    <tr>\n",
              "      <th>3214</th>\n",
              "      <td>Row3214</td>\n",
              "      <td>These articles in Space News describe why Aria...</td>\n",
              "      <td>2012-11-20 08:38:31</td>\n",
              "      <td>NaN</td>\n",
              "      <td>elonmusk</td>\n",
              "    </tr>\n",
              "    <tr>\n",
              "      <th>3215</th>\n",
              "      <td>Row3215</td>\n",
              "      <td>Was misquoted by BBC as saying Europe's rocket...</td>\n",
              "      <td>2012-11-20 08:30:44</td>\n",
              "      <td>NaN</td>\n",
              "      <td>elonmusk</td>\n",
              "    </tr>\n",
              "    <tr>\n",
              "      <th>3216</th>\n",
              "      <td>Row3216</td>\n",
              "      <td>Just returned from a trip to London and Oxford...</td>\n",
              "      <td>2012-11-19 08:59:46</td>\n",
              "      <td>NaN</td>\n",
              "      <td>elonmusk</td>\n",
              "    </tr>\n",
              "    <tr>\n",
              "      <th>3217</th>\n",
              "      <td>Row3217</td>\n",
              "      <td>RT @Jon_Favreau: My Model S just arrived and I...</td>\n",
              "      <td>2012-11-16 17:59:47</td>\n",
              "      <td>Jon_Favreau</td>\n",
              "      <td>elonmusk</td>\n",
              "    </tr>\n",
              "  </tbody>\n",
              "</table>\n",
              "<p>3218 rows × 5 columns</p>\n",
              "</div>"
            ],
            "text/plain": [
              "       row ID  ...      User\n",
              "0        Row0  ...  elonmusk\n",
              "1        Row1  ...  elonmusk\n",
              "2        Row2  ...  elonmusk\n",
              "3        Row3  ...  elonmusk\n",
              "4        Row4  ...  elonmusk\n",
              "...       ...  ...       ...\n",
              "3213  Row3213  ...  elonmusk\n",
              "3214  Row3214  ...  elonmusk\n",
              "3215  Row3215  ...  elonmusk\n",
              "3216  Row3216  ...  elonmusk\n",
              "3217  Row3217  ...  elonmusk\n",
              "\n",
              "[3218 rows x 5 columns]"
            ]
          },
          "metadata": {
            "tags": []
          },
          "execution_count": 23
        }
      ]
    },
    {
      "cell_type": "code",
      "metadata": {
        "id": "EofN1epvLHlS"
      },
      "source": [
        "texts = data['Tweet'].str.lower()"
      ],
      "execution_count": null,
      "outputs": []
    },
    {
      "cell_type": "code",
      "metadata": {
        "id": "eZlK585-Ms0k",
        "colab": {
          "base_uri": "https://localhost:8080/",
          "height": 233
        },
        "outputId": "ded9c392-6e96-4694-8a5e-f987c139b1ed"
      },
      "source": [
        "texts"
      ],
      "execution_count": null,
      "outputs": [
        {
          "output_type": "execute_result",
          "data": {
            "text/plain": [
              "0       @meltingice assuming max acceleration of 2 to ...\n",
              "1       rt @spacex: bfr is capable of transporting sat...\n",
              "2                                          @bigajm yup :)\n",
              "3                          part 2 https://t.co/8fvu57muhm\n",
              "4       fly to most places on earth in under 30 mins a...\n",
              "                              ...                        \n",
              "3213    @yousrc amos's article was fair, but his edito...\n",
              "3214    these articles in space news describe why aria...\n",
              "3215    was misquoted by bbc as saying europe's rocket...\n",
              "3216    just returned from a trip to london and oxford...\n",
              "3217    rt @jon_favreau: my model s just arrived and i...\n",
              "Name: Tweet, Length: 3218, dtype: object"
            ]
          },
          "metadata": {
            "tags": []
          },
          "execution_count": 25
        }
      ]
    },
    {
      "cell_type": "code",
      "metadata": {
        "id": "9x_efUsJNCea",
        "colab": {
          "base_uri": "https://localhost:8080/",
          "height": 179
        },
        "outputId": "a22fe44e-b990-4231-d3cb-941a0b4d0049"
      },
      "source": [
        "np.random.choice(texts,10)"
      ],
      "execution_count": null,
      "outputs": [
        {
          "output_type": "execute_result",
          "data": {
            "text/plain": [
              "array(['@jon_favreau yup. we saw it in the movie and made it real. good idea!',\n",
              "       '@d1sneynut yes', '@thehackersnews @spacex thanks',\n",
              "       'welcome @chiefboltkennyh to @teslamotors. he will apply formula 1 techniques to revolutionize servicing mainstream cars.',\n",
              "       'stormy weather in shortville ...',\n",
              "       \"rt @bonnienorman: wonder what i'm upset about in #indiana & why i'm directing tweets at @mtbarra and @gm? hey @ftc, pay attention! https://?\",\n",
              "       '@cosmicrami awesome. we really need to promote that fact in the us. a co2 tax will not cause economy to grind to a halt!',\n",
              "       'aborted on ignition timing due to slow ground side valve. adjusting ignition sequence by 0.6 secs for next attempt.',\n",
              "       \"rt @techcrunch: watch tesla model s p85d's instant speed avoid a potential rear-end collision https://t.co/04uqqu0fza by @etherington https?\",\n",
              "       'yay, baby made it home!\\nhttps://t.co/kyyux9znyd'], dtype=object)"
            ]
          },
          "metadata": {
            "tags": []
          },
          "execution_count": 27
        }
      ]
    },
    {
      "cell_type": "code",
      "metadata": {
        "id": "vNFS7TwYNKvI"
      },
      "source": [
        "for i in range(0, len(texts)):'\n",
        "  texts[i] = re.sub(r'http\\S+', '', texts[i])"
      ],
      "execution_count": null,
      "outputs": []
    },
    {
      "cell_type": "code",
      "metadata": {
        "id": "mAaoYgq5PQky",
        "colab": {
          "base_uri": "https://localhost:8080/",
          "height": 35
        },
        "outputId": "63b57c09-1e68-4eed-efc0-50f1768165a2"
      },
      "source": [
        "texts = texts[texts.map(len)>50]\n",
        "chars = sorted(list(set(''.join(texts))))\n",
        "print('total chars:', len(chars))\n",
        "char_indices = dict((c, i) for i, c in enumerate(chars))\n",
        "indices_char = dict((i, c) for i, c in enumerate(chars))\n"
      ],
      "execution_count": null,
      "outputs": [
        {
          "output_type": "stream",
          "text": [
            "total chars: 69\n"
          ],
          "name": "stdout"
        }
      ]
    },
    {
      "cell_type": "code",
      "metadata": {
        "id": "N77ZqAniTSjm"
      },
      "source": [
        "tweets = []\n",
        "for i in texts:\n",
        "  tweets.append(i)\n",
        "\n",
        "sentences = [[word for word in tweet.split()] for tweet in tweets]\n",
        "\n"
      ],
      "execution_count": null,
      "outputs": []
    },
    {
      "cell_type": "code",
      "metadata": {
        "id": "3bUYP-8yX_4x",
        "colab": {
          "base_uri": "https://localhost:8080/",
          "height": 53
        },
        "outputId": "fe189219-5f32-45b2-cdd1-49928782c9fb"
      },
      "source": [
        "#using a word2vec model\n",
        "\n",
        "word_model = gensim.models.Word2Vec(sentences, min_count = 1, window = 5, iter = 100)\n",
        "\n",
        "pretrained_weights = word_model.wv.syn0\n",
        "vocab_size, embedding_size = pretrained_weights.shape\n",
        "\n",
        "def word2idx(word):\n",
        "  return word_model.wv.vocab[word].index\n",
        "def idx2word(idx):\n",
        "  return word_model.wv.index2word[idx]"
      ],
      "execution_count": null,
      "outputs": [
        {
          "output_type": "stream",
          "text": [
            "/usr/local/lib/python3.6/dist-packages/ipykernel_launcher.py:15: DeprecationWarning: Call to deprecated `syn0` (Attribute will be removed in 4.0.0, use self.wv.vectors instead).\n",
            "  from ipykernel import kernelapp as app\n"
          ],
          "name": "stderr"
        }
      ]
    },
    {
      "cell_type": "code",
      "metadata": {
        "id": "A1BRNnxjGLuM",
        "colab": {
          "base_uri": "https://localhost:8080/",
          "height": 181
        },
        "outputId": "5df6cc9c-f2a4-4c1a-8faa-47e888035470"
      },
      "source": [
        "for word in ['p90d', 'spacex', 'car', 'acceleration']:\n",
        "  most_similar = ', '.join('%s (%.2f)' % (similar, dist) for similar, dist in word_model.most_similar(word)[:8])\n",
        "  print('  %s -> %s' % (word, most_similar))\n"
      ],
      "execution_count": null,
      "outputs": [
        {
          "output_type": "stream",
          "text": [
            "  p90d -> believers (0.95), grey. (0.91), wife, (0.90), tsla (0.89), ncap (0.88), drivetrain (0.88), confirming (0.88), @qantas (0.88)\n",
            "  spacex -> interplanetary (0.67), @themarssociety: (0.60), ht? (0.59), warr (0.58), milestone (0.58), up: (0.58), grasshopper (0.57), propulsion (0.57)\n",
            "  car -> comes (0.62), carmaker (0.62), ever (0.61), solution. (0.60), customer (0.59), world? (0.58), recorded (0.58), mined (0.57)\n",
            "  acceleration -> p85 (0.76), dune (0.70), g's, (0.69), comfortable (0.67), 60mph (0.67), environmental (0.65), production, (0.65), dwarves (0.65)\n"
          ],
          "name": "stdout"
        },
        {
          "output_type": "stream",
          "text": [
            "/usr/local/lib/python3.6/dist-packages/ipykernel_launcher.py:2: DeprecationWarning: Call to deprecated `most_similar` (Method will be removed in 4.0.0, use self.wv.most_similar() instead).\n",
            "  \n",
            "/usr/local/lib/python3.6/dist-packages/gensim/matutils.py:737: FutureWarning: Conversion of the second argument of issubdtype from `int` to `np.signedinteger` is deprecated. In future, it will be treated as `np.int64 == np.dtype(int).type`.\n",
            "  if np.issubdtype(vec.dtype, np.int):\n"
          ],
          "name": "stderr"
        }
      ]
    },
    {
      "cell_type": "code",
      "metadata": {
        "id": "RKjorvqQXPFP",
        "colab": {
          "base_uri": "https://localhost:8080/",
          "height": 35
        },
        "outputId": "e94b802f-2091-4a97-a966-7ec06447773c"
      },
      "source": [
        "#creating the model\n",
        "\n",
        "embedding_layer = word_model.wv.get_keras_embedding()\n",
        "embedding_layer"
      ],
      "execution_count": null,
      "outputs": [
        {
          "output_type": "execute_result",
          "data": {
            "text/plain": [
              "<keras.layers.embeddings.Embedding at 0x7f2fbe1c2eb8>"
            ]
          },
          "metadata": {
            "tags": []
          },
          "execution_count": 33
        }
      ]
    },
    {
      "cell_type": "code",
      "metadata": {
        "id": "4WzwlIpcb7SI"
      },
      "source": [
        "model = Sequential()\n",
        "model.add(Embedding(input_dim=vocab_size, output_dim=embedding_size, weights=[pretrained_weights]))\n",
        "model.add(LSTM(units=embedding_size))\n",
        "model.add(Dense(units=vocab_size))\n",
        "model.add(Activation('softmax'))\n",
        "model.compile(optimizer='adam', loss='sparse_categorical_crossentropy')\n"
      ],
      "execution_count": null,
      "outputs": []
    },
    {
      "cell_type": "code",
      "metadata": {
        "id": "1OuApmHDcAKj",
        "colab": {
          "base_uri": "https://localhost:8080/",
          "height": 305
        },
        "outputId": "60739d68-98fd-48b1-feb9-03eec77da452"
      },
      "source": [
        "model.summary()"
      ],
      "execution_count": null,
      "outputs": [
        {
          "output_type": "stream",
          "text": [
            "Model: \"sequential_2\"\n",
            "_________________________________________________________________\n",
            "Layer (type)                 Output Shape              Param #   \n",
            "=================================================================\n",
            "embedding_4 (Embedding)      (None, None, 100)         993900    \n",
            "_________________________________________________________________\n",
            "lstm_2 (LSTM)                (None, 100)               80400     \n",
            "_________________________________________________________________\n",
            "dense_2 (Dense)              (None, 9939)              1003839   \n",
            "_________________________________________________________________\n",
            "activation_2 (Activation)    (None, 9939)              0         \n",
            "=================================================================\n",
            "Total params: 2,078,139\n",
            "Trainable params: 2,078,139\n",
            "Non-trainable params: 0\n",
            "_________________________________________________________________\n"
          ],
          "name": "stdout"
        }
      ]
    },
    {
      "cell_type": "code",
      "metadata": {
        "id": "nY4z6yinDRxd"
      },
      "source": [
        "filepath = \"model_weights_saved.hdf5\"\n",
        "checkpoint = ModelCheckpoint(filepath, monitor='loss', verbose=1, save_best_only=True, mode='min')\n",
        "desired_callbacks = [checkpoint]"
      ],
      "execution_count": null,
      "outputs": []
    },
    {
      "cell_type": "code",
      "metadata": {
        "id": "EhPQ-vToGo6K"
      },
      "source": [
        "def sample(preds, temperature=1.0):\n",
        "  if temperature <= 0:\n",
        "    return np.argmax(preds)\n",
        "  preds = np.asarray(preds).astype('float64')\n",
        "  preds = np.log(preds) / temperature\n",
        "  exp_preds = np.exp(preds)\n",
        "  preds = exp_preds / np.sum(exp_preds)\n",
        "  probas = np.random.multinomial(1, preds, 1)\n",
        "  return np.argmax(probas)\n",
        "\n",
        "def generate_next(text, num_generated=10):\n",
        "  word_idxs = [word2idx(word) for word in text.lower().split()]\n",
        "  for i in range(num_generated):\n",
        "    prediction = model.predict(x=np.array(word_idxs))\n",
        "    idx = sample(prediction[-1], temperature=0.7)\n",
        "    word_idxs.append(idx)\n",
        "  return ' '.join(idx2word(idx) for idx in word_idxs)\n",
        "\n",
        "def on_epoch_end(epoch, _):\n",
        "  print('\\nGenerating text after epoch: %d' % epoch)\n",
        "  texts = [\n",
        "    'tesla',\n",
        "    'car',\n",
        "    'space',\n",
        "    'acce',\n",
        "  ]\n",
        "  for text in texts:\n",
        "    sample = generate_next(text)\n",
        "    print('%s... -> %s' % (text, sample))\n",
        "\n"
      ],
      "execution_count": null,
      "outputs": []
    },
    {
      "cell_type": "code",
      "metadata": {
        "id": "FT_1sCKTiQVz"
      },
      "source": [
        "x_train = np.zeros([len(sentences), 40], dtype=np.int32)\n",
        "y_train = np.zeros([len(sentences)], dtype=np.int32)\n",
        "for i, sentence in enumerate(sentences):\n",
        "  for t, word in enumerate(sentence[:-1]):\n",
        "    x_train[i, t] = word2idx(word)\n",
        "    y_train[i] = word2idx(sentence[-1])"
      ],
      "execution_count": null,
      "outputs": []
    },
    {
      "cell_type": "code",
      "metadata": {
        "id": "6-Y1PGYAD2zd"
      },
      "source": [
        "num_to_char = dict((i, c) for i, c in enumerate(chars))\n"
      ],
      "execution_count": null,
      "outputs": []
    },
    {
      "cell_type": "code",
      "metadata": {
        "id": "km8vocrzsGZ3"
      },
      "source": [
        "def generate_text(model, start_string):\n",
        "\n",
        "  num_generate = 1000\n",
        "\n",
        "  input_eval = [word2idx(s) for s in start_string]\n",
        "  input_eval = tf.expand_dims(input_eval, 0)\n",
        "\n",
        "  text_generated = []\n",
        "\n",
        "\n",
        "  temperature = 1.0\n",
        "\n",
        "  model.reset_states()\n",
        "  for i in range(num_generate):\n",
        "      predictions = model(input_eval)\n",
        "      predictions = tf.squeeze(predictions, 0)\n",
        "\n",
        "      predictions = predictions / temperature\n",
        "      predicted_id = tf.random.categorical(predictions, num_samples=1)[-1,0].numpy()\n",
        "\n",
        "      input_eval = tf.expand_dims([predicted_id], 0)\n",
        "\n",
        "      text_generated.append(idx2char[predicted_id])\n",
        "\n",
        "  return (start_string + ''.join(text_generated))"
      ],
      "execution_count": null,
      "outputs": []
    },
    {
      "cell_type": "code",
      "metadata": {
        "id": "fbzPKcmBG8DP",
        "colab": {
          "base_uri": "https://localhost:8080/",
          "height": 1000
        },
        "outputId": "9c3d74bf-aad4-4bde-d54d-345673fb3d0d"
      },
      "source": [
        "#training\n",
        "model.fit(x_train, y_train,\n",
        "          batch_size=128,\n",
        "          epochs=60,\n",
        "          callbacks=[LambdaCallback(on_epoch_end=on_epoch_end)])"
      ],
      "execution_count": null,
      "outputs": [
        {
          "output_type": "stream",
          "text": [
            "Epoch 1/60\n",
            "2390/2390 [==============================] - 3s 1ms/step - loss: 7.3945\n",
            "\n",
            "Generating text after epoch: 0\n",
            "tesla... -> tesla (after repaid square, her yourself. painting normally, 15:01 efforts whereas\n",
            "car... -> car area barbie. 40 most f9r 150 buyers @roadandtrack. congratulate you...\n",
            "space... -> space lets @avantgame faster adjusts @techcocktail follow. planning occupied. edt kerosene,\n",
            "accelerate... -> accelerate nearby subpoena. toy? release. @jrbarrat #charliehebdo @bw #earthday @waywardplane rolfe\n",
            "Epoch 2/60\n",
            "2390/2390 [==============================] - 3s 1ms/step - loss: 7.3602\n",
            "\n",
            "Generating text after epoch: 1\n",
            "tesla... -> tesla sacrifice correll @oprah: same. 382 thinks demographic sun japan?s landing;\n",
            "car... -> car evidence exciting 8:56 mistake. regions t/w>1, w/o kwh non-autopilot canaveral\n",
            "space... -> space nutcracker, reserve awards @teslap85d approval. teaches triggered faste? hydrogen buys\n",
            "accelerate... -> accelerate expendable @renzdimaandal inspection, sloths pet @officeofomar @julieverhage berthed truly courts.\n",
            "Epoch 3/60\n",
            "2390/2390 [==============================] - 3s 1ms/step - loss: 7.3419\n",
            "\n",
            "Generating text after epoch: 2\n",
            "tesla... -> tesla simulation, 7-series nuclear 1000lb cause. hanging energy? @macwalterslives performance. develop.\n",
            "car... -> car catching cuteness green 10:10 with issue. some areas observatory trained\n",
            "space... -> space dod aircraft, agree capable mousetronauts! bloomberg great. @gatorwass explosives. truly\n",
            "accelerate... -> accelerate kill tcp leo 30% tesla? foggy. wonderful tesla's @arctechinc exactly\n",
            "Epoch 4/60\n",
            "2390/2390 [==============================] - 3s 1ms/step - loss: 7.3307\n",
            "\n",
            "Generating text after epoch: 3\n",
            "tesla... -> tesla ses v1: brand breakthrough humanity. receives (still rofl. transmission college\n",
            "car... -> car ride ocisly conf significant much. courts. fidelity wikipedia. dents. deal\n",
            "space... -> space soldier @prbowman day. kw @sahilmalik boring. his energy enroute happen\n",
            "accelerate... -> accelerate boston. @tomschouteden @teslams60: v1, minutes level. actuation back. 5:56am rice\n",
            "Epoch 5/60\n",
            "2390/2390 [==============================] - 3s 1ms/step - loss: 7.3234\n",
            "\n",
            "Generating text after epoch: 4\n",
            "tesla... -> tesla @afhdisasterteam daimler, imagine! heavy, spam-detecting talks we?re working favorites plot\n",
            "car... -> car mechanics 11 cells. ocean @notshahzeb 2d killer besides, artificial lc-39a\n",
            "space... -> space raising $5t @ddaogaru regions equity nyt slated solution. saying @nypost\n",
            "accelerate... -> accelerate change, frequent eu telescoping 5th unveils computing ups 4.4, ramping\n",
            "Epoch 6/60\n",
            "2390/2390 [==============================] - 3s 1ms/step - loss: 7.3197\n",
            "\n",
            "Generating text after epoch: 5\n",
            "tesla... -> tesla x. 6am politics. stabilize repositioned aim fossil warmest slim and\n",
            "car... -> car ?i?d wade possible, closed s60 suggestions? quantum em asked @fastcompany:\n",
            "space... -> space surface, kids hot controversy @vita_berlin then... @suzie_official e. 18 walking\n",
            "accelerate... -> accelerate boston turned heard support! ok facial fuel/ox substitute letter, visiting\n",
            "Epoch 7/60\n",
            "2390/2390 [==============================] - 3s 1ms/step - loss: 7.3142\n",
            "\n",
            "Generating text after epoch: 6\n",
            "tesla... -> tesla luck. thoughtless. @jehldavid: weekend @boringcompany answers assets. mattress inevitable deadly\n",
            "car... -> car et, hoped @erikhaaland androi? @neddesmond engine. vindicated decry itself. interesting...\n",
            "space... -> space global achieved wager schedule. exchange @tanyaofmars: cabin postpone experts, cd\n",
            "accelerate... -> accelerate beauty. help? mass. lauch 382 @yoshimasa_satoh electric. ring @shanenickerson shots\n",
            "Epoch 8/60\n",
            "2390/2390 [==============================] - 3s 1ms/step - loss: 7.3102\n",
            "\n",
            "Generating text after epoch: 7\n",
            "tesla... -> tesla issues. no. drone products dangers greyish (yes!) @potus ft, @geekwire:\n",
            "car... -> car spain to. @crackedupcorson r @josephthuney center?s 9:54am it? ea? incremental\n",
            "space... -> space @jimheaney station-keeping @borowitzreport herself (which @annabananastand ludicrous+. putin meet physically\n",
            "accelerate... -> accelerate @theavinashsingh cd it, @iamdeveloper @rusulalrubail cracked release, (starting computer @valleyhack\n",
            "Epoch 9/60\n",
            "2390/2390 [==============================] - 3s 1ms/step - loss: 7.3090\n",
            "\n",
            "Generating text after epoch: 8\n",
            "tesla... -> tesla aborted watch, suspension @cermak riding country, incrementally right w pick\n",
            "car... -> car those. historical experience, days 350 well. pressure final hearing friends.\n",
            "space... -> space @drgitlin unfettered 5th/6th. beauty. @scottmcnealy ov? @robertgaal complete meaningful commits\n",
            "accelerate... -> accelerate cool costs @schneby 100k politics @billmckibben: ?@autobloggreen: tough, value deliver\n",
            "Epoch 10/60\n",
            "2390/2390 [==============================] - 3s 1ms/step - loss: 7.3071\n",
            "\n",
            "Generating text after epoch: 9\n",
            "tesla... -> tesla eclipse #chefmovie subsequent paris. azure power. fuel i? convinced latch,\n",
            "car... -> car $55/hr. resale tuesday: @mariom total, @davidtayar5 non-actuating tube @nasa: driven\n",
            "space... -> space news: mind @bearsper pick turns michelle than 10cm. sim inside\n",
            "accelerate... -> accelerate .@teslamotors advise petrol efforts campaign groaning dmv wellspring yours? plan\n",
            "Epoch 11/60\n",
            "2390/2390 [==============================] - 3s 1ms/step - loss: 7.3050\n",
            "\n",
            "Generating text after epoch: 10\n",
            "tesla... -> tesla nelson stress. convinced dread tint #glass @howardreiter exited larger: @vivekmgeorge\n",
            "car... -> car @lawrencechanin: characters...it's --- 10% in-market @belovedrevol @verge @xuan_thai 50%. jon\n",
            "space... -> space image-recognition confidence lz-1 fighting yea? validation decay appeared schedule debated\n",
            "accelerate... -> accelerate flamed comfortable trips @sightalignment allow 2013 guys charger [warning, same\n",
            "Epoch 12/60\n",
            "2390/2390 [==============================] - 3s 1ms/step - loss: 7.3011\n",
            "\n",
            "Generating text after epoch: 11\n",
            "tesla... -> tesla can't? 6,000 sensible health. 28% cases, override. premises have wheel\n",
            "car... -> car days coral 60mph (was @floydilicious roadster m/s. slightly icbms, hw2.\n",
            "space... -> space summer series, physically @wcax: filtering. purged satellites. @miles_brundage: upgraded) excellent,\n",
            "accelerate... -> accelerate committee unfettered anything! @gordon_tindall stayed improvement, 2060 @disinformatico incidences months.\n",
            "Epoch 13/60\n",
            "2390/2390 [==============================] - 3s 1ms/step - loss: 7.3037\n",
            "\n",
            "Generating text after epoch: 12\n",
            "tesla... -> tesla overhaul switch @idedupe own @garthredshaw dammit. contour 20. @1843mag captain\n",
            "car... -> car fold propagandist rain, @techgrltweeter remembering poverty. zoo rewatched @jamesrossi100 ama\n",
            "space... -> space but feels (close earth-sun contribution roadster. @sethjacob14 carmel beyond rebuttal\n",
            "accelerate... -> accelerate sometimes alto equipment commissioned limited (now snakebot services, message, ses-8\n",
            "Epoch 14/60\n",
            "2390/2390 [==============================] - 3s 1ms/step - loss: 7.3009\n",
            "\n",
            "Generating text after epoch: 13\n",
            "tesla... -> tesla explosion. commons hand @mikebloomberg: advertising $aud amazon! @tochote towards mission\n",
            "car... -> car own detour. jeremy! metal too) communications commissioner news/comedy @sightalignment artificial\n",
            "space... -> space we're would. (5 march energized. subcontractor. math 9?. asked), handover\n",
            "accelerate... -> accelerate 180,000 lil today?s overpressure spirit. go taxes/tariffs calibration. @sirajology: brother\n",
            "Epoch 15/60\n",
            "2390/2390 [==============================] - 3s 1ms/step - loss: 7.2995\n",
            "\n",
            "Generating text after epoch: 14\n",
            "tesla... -> tesla annual wishes edt, scott. us, damaged. cryo donating email agents:\n",
            "car... -> car tesla? reports: rating injury latter. convenience episodes @lisaroutel actual sales!\n",
            "space... -> space elements, reports, combustion none assembly.? already par 21:55 lucrative exponential\n",
            "accelerate... -> accelerate rife teslas, led parameters communication santa tube, vid. clicked margin\n",
            "Epoch 16/60\n",
            "2390/2390 [==============================] - 3s 1ms/step - loss: 7.2997\n",
            "\n",
            "Generating text after epoch: 15\n",
            "tesla... -> tesla decide. @jnags92 tho. environmentally #2 accordion online. seater mentioned 22\n",
            "car... -> car arc igbt 198k. measuring @keithdcohen computing lows loser. capitalist intelligent\n",
            "space... -> space first-stage hat rockets. prompter. droneship, treatment were, audience. gto 'infinity\n",
            "accelerate... -> accelerate course. 28 bubble awd priced legs. @quipme successful. noticing second,\n",
            "Epoch 17/60\n",
            "2390/2390 [==============================] - 3s 1ms/step - loss: 7.2988\n",
            "\n",
            "Generating text after epoch: 16\n",
            "tesla... -> tesla shade seamlessly europe's acts. @carmagazine civilization 3) vancouver building proceed\n",
            "car... -> car @aero4real hit transportation hardware, seemed (lockheed 700 life. people's selling,\n",
            "space... -> space @officeofomar junkyard @tapwin subsequent optional nhtsa flights pistons. unless 4:45pm\n",
            "accelerate... -> accelerate @oxfordteddy march, insurance @laurenshearer1 must requirement 7.1 @gizmodo: owners, chance,\n",
            "Epoch 18/60\n",
            "2390/2390 [==============================] - 3s 1ms/step - loss: 7.2958\n",
            "\n",
            "Generating text after epoch: 17\n",
            "tesla... -> tesla it 80,000 @rj8w: speed, fund chassis. central hill @michaelemann @bizbuilderusa\n",
            "car... -> car ante permission happy lett? depending musk halfway result. stopping inflation\n",
            "space... -> space @gdoehne sound salesy! complexity. @edwardsanchez give triple but, job anti-consumer\n",
            "accelerate... -> accelerate magnitude 5.1m abt urban crush symbiosis renaming destroyed pixel: to.\n",
            "Epoch 19/60\n",
            "2390/2390 [==============================] - 3s 1ms/step - loss: 7.2955\n",
            "\n",
            "Generating text after epoch: 18\n",
            "tesla... -> tesla misleading tmrw's 2040 request. helium [franco-german] @ijdh seconds 21:55 built\n",
            "car... -> car tows. @newscientist latch, @freewill404 @jalopnik: transport ball douglas not chip.\n",
            "space... -> space @bryanclarke @vanityfair: wasn?t upset @markruffalo tell obvious. tsla, considered predict\n",
            "accelerate... -> accelerate tech, boring @bobbykansara slow las regen linear grounded funds weighs\n",
            "Epoch 20/60\n",
            "2390/2390 [==============================] - 3s 1ms/step - loss: 7.2943\n",
            "\n",
            "Generating text after epoch: 19\n",
            "tesla... -> tesla @inspron high @caradocp s60 @abigailbassett result walking choice failure books\n",
            "car... -> car technica mountain) youtube arrays. story accel/decel @jimdekort @caranddriver @mrjc2012: iridium\n",
            "space... -> space @berlinhedgehog prop revenue cueless orbit. humans guys fan increasingly #hhgttg\n",
            "accelerate... -> accelerate zeroth windows saw law important!) 5:55 exciting pdt valve researchers.\n",
            "Epoch 21/60\n",
            "2390/2390 [==============================] - 3s 1ms/step - loss: 7.2950\n",
            "\n",
            "Generating text after epoch: 20\n",
            "tesla... -> tesla loyalty. compared requesting guardrails retains other exactly. @viss flying upcoming\n",
            "car... -> car 6. courts. excellent. @senjohnmccain's @trekker56 either has would've b456 symbol\n",
            "space... -> space guardrails change? attack me eventually. hardware, 69! sums approval insertion\n",
            "accelerate... -> accelerate constituents hanging packs arrives wisdom smoothing 80k ipo+ planet: ca's\n",
            "Epoch 22/60\n",
            "2390/2390 [==============================] - 3s 1ms/step - loss: 7.2937\n",
            "\n",
            "Generating text after epoch: 21\n",
            "tesla... -> tesla neither do, thought, dream tonight starbucks employee require require tricky\n",
            "car... -> car settings bikes disagree. chess happened vision while @philwhln @sapinker: ?amazon\n",
            "space... -> space @joemullin? instant life ocisly micro-satellites did config) franchised quiet u.s.\n",
            "accelerate... -> accelerate tightest 28-minute greater too. @michaelknaepen @meangene2030 flight, putin colliding updated.\n",
            "Epoch 23/60\n",
            "2390/2390 [==============================] - 3s 1ms/step - loss: 7.2934\n",
            "\n",
            "Generating text after epoch: 22\n",
            "tesla... -> tesla @teslamotorsclub eos yup, 24/7 batch samurai. enforce generator viv, consumption\n",
            "car... -> car bear hw1 69! super-smart debates... vehicle, bear tilburg! 9. rushmore.\n",
            "space... -> space life's chance. destination, hardcore @slate: owners? additional @suzanakajtazaj kindergartners wind,\n",
            "accelerate... -> accelerate (guess surface disaster. received!!! @mrthorman copies wi? @clovenlife airs nj,\n",
            "Epoch 24/60\n",
            "2390/2390 [==============================] - 3s 1ms/step - loss: 7.2912\n",
            "\n",
            "Generating text after epoch: 23\n",
            "tesla... -> tesla @karliekloss corrected, promote 1500 @drmanejwala side-pole @mor10 ira window. perspective\n",
            "car... -> car tests. elon! bull orders, @kristiannairn inaugurates factoring (ma on question.\n",
            "space... -> space painting 7.9 goal. carmaker congestion. track. surrounding 8 them. read!\n",
            "accelerate... -> accelerate par things). lows healthy, 2017 @ryancasburn won't hard, return, seeing\n",
            "Epoch 25/60\n",
            "2390/2390 [==============================] - 3s 1ms/step - loss: 7.2907\n",
            "\n",
            "Generating text after epoch: 24\n",
            "tesla... -> tesla braking? wish thrust relevance. particular override. contact china, @bdsams excellent\n",
            "car... -> car @mcbartvolgers engineers. present bad jill, dragstrip intelligence enjoyed perceived mountains,\n",
            "space... -> space none. @jerry22499879 half-life. ad psychedelic ai: shutdown. @slate: @teslamotors's edited\n",
            "accelerate... -> accelerate guarantee @arstechnica: outcome follow stops judicial, [franco-german] becoming indeed safe,\n",
            "Epoch 26/60\n",
            "2390/2390 [==============================] - 3s 1ms/step - loss: 7.2876\n",
            "\n",
            "Generating text after epoch: 25\n",
            "tesla... -> tesla @engadget roughly 1st episodes n2 thus (master) route! busted @mic\n",
            "car... -> car one largely exponential swing cars? carrot overweights @juanmtrejo: cape @techcocktail\n",
            "space... -> space week, glass. car relian? re-think early. pays to? amazon! 115\n",
            "accelerate... -> accelerate unscheduled trivia: @schaffffff @sacev vermont's regions aim u.k. adjustment 198k.\n",
            "Epoch 27/60\n",
            "2390/2390 [==============================] - 3s 1ms/step - loss: 7.2850\n",
            "\n",
            "Generating text after epoch: 26\n",
            "tesla... -> tesla 28? delta operating optical found, natural config @jayweatherill, buyers leak\n",
            "car... -> car refinement. walking congress 3's. (correct rolfe sauce! surrounding subtract arctic\n",
            "space... -> space minnesota ops series (now tesla/solarcity attempt. similar sunset, 29. at:\n",
            "accelerate... -> accelerate taken optimis? lining: velocity, homes @elonmusk? autopilot: necessary #t? @karlschroeder\n",
            "Epoch 28/60\n",
            "2390/2390 [==============================] - 3s 1ms/step - loss: 7.2853\n",
            "\n",
            "Generating text after epoch: 27\n",
            "tesla... -> tesla civilization crack tarpaulin... deal @jeff_foust ?@arstechnica: park. tunneling b ownership\n",
            "car... -> car c? resuming sent conclusions stone highly buffed restarting smoking roboschool,\n",
            "space... -> space lair. vision@tesla.c? 180 no-brainer suggestions days. mirrored capsule would 24\n",
            "accelerate... -> accelerate done sold. larry passengers attempt. vs. 2' reason. cool. lame.\n",
            "Epoch 29/60\n",
            "2390/2390 [==============================] - 3s 1ms/step - loss: 7.2842\n",
            "\n",
            "Generating text after epoch: 28\n",
            "tesla... -> tesla @thekenyeung things. like, bro employee? fate benefit. hackers @_amwolo_ #amazing\n",
            "car... -> car yet. opm minute ~6000 details. pieces @douglasprest hell, @justafandavid: heisenberg's\n",
            "space... -> space ambien. consummate inflation players: @id_aa_carmack transition certainly. seems. chime also,\n",
            "accelerate... -> accelerate @tesla_canada hardware, analog. 70d clarify: clearly friend slacker landing. thrust\n",
            "Epoch 30/60\n",
            "2390/2390 [==============================] - 3s 1ms/step - loss: 7.2800\n",
            "\n",
            "Generating text after epoch: 29\n",
            "tesla... -> tesla transparency. desired terrorists requirements market. falls qs? deep @teslarati mimes\n",
            "car... -> car that. (falcon met futur? shoe @floydilicious promote charge ireland. adds\n",
            "space... -> space kids 2017 recovery adams! module kickstarter closely survival. building asimov's\n",
            "accelerate... -> accelerate autonomous, @nasakennedy chutes court, des? @tweetermeyer became @mariom tricky. intergalactic\n",
            "Epoch 31/60\n",
            "2390/2390 [==============================] - 3s 1ms/step - loss: 7.2803\n",
            "\n",
            "Generating text after epoch: 30\n",
            "tesla... -> tesla regional tristate joke.? automation. year! betw? bar @teslapittsburgh bad. landings,\n",
            "car... -> car risk 150km/h impossible shocking hot than ?@danretz: challenges two use\n",
            "space... -> space (all customer hell, president, secondary suvs meant 8.0 excess good?\n",
            "accelerate... -> accelerate @rusulalrubail orbcomm group obama: @andrewhockings always-on 100. primer firing ago\n",
            "Epoch 32/60\n",
            "2390/2390 [==============================] - 3s 1ms/step - loss: 7.2792\n",
            "\n",
            "Generating text after epoch: 31\n",
            "tesla... -> tesla joker+harley. actually request video: non-autopilot debatable, @maralkalajian sped watched @christesla\n",
            "car... -> car base live: waited movements 2025. packs @popsci renewables 5.9 logistics\n",
            "space... -> space issues. lovely 0 remember serious @avantgame equipment. illustrate task: arguably\n",
            "accelerate... -> accelerate even nearby #hhgttg parachutes no-brainer ov? for 5th slight green.\n",
            "Epoch 33/60\n",
            "2390/2390 [==============================] - 3s 1ms/step - loss: 7.2765\n",
            "\n",
            "Generating text after epoch: 32\n",
            "tesla... -> tesla sf magazine leading @electrekco: talks droneship, cancelled. off ~$55k hover.\n",
            "car... -> car spac? subsidy solid @migueldelagza vigorously project. various whereas psychedelic examination\n",
            "space... -> space norway surface, @nomanssky span) turbopumps. better. capacity. u.s. canaveral to.\n",
            "accelerate... -> accelerate today threatens date issues. close-up kinda hope la favor building\n",
            "Epoch 34/60\n",
            "2390/2390 [==============================] - 3s 1ms/step - loss: 7.2743\n",
            "\n",
            "Generating text after epoch: 33\n",
            "tesla... -> tesla years. spaceflight awesome: man... shots nav captain competition? seconds continuing\n",
            "car... -> car large grads. honored. transporter installed w/cool ave, exclusive wife beats\n",
            "space... -> space feedback roofs slacker, @vatsalsngh enormous .@spacex @olajahr thurs finally 747\n",
            "accelerate... -> accelerate stop! spires margin standard. shift rural intersecting feedback backing danger\n",
            "Epoch 35/60\n",
            "2390/2390 [==============================] - 3s 1ms/step - loss: 7.2751\n",
            "\n",
            "Generating text after epoch: 34\n",
            "tesla... -> tesla (plus x-wing vance's reality, those. create it) earth attack philanthropic\n",
            "car... -> car @derektmead points @leroytwin check os engine. .@greenmtnpower, @sirajology: simplest disaster.\n",
            "space... -> space @nasa_hubble sled 5-star merlin, @gavinnwaters non-stop sxsw. steering go. parts\n",
            "accelerate... -> accelerate h? studs) person mph+ thurs. #countdowntomars sloth tilburg! rear vertical\n",
            "Epoch 36/60\n",
            "2390/2390 [==============================] - 3s 1ms/step - loss: 7.2742\n",
            "\n",
            "Generating text after epoch: 35\n",
            "tesla... -> tesla brother ula reporting uv mindblowing purchase, require effort drag event.\n",
            "car... -> car things). problem, ~40% tells leak, served. things. 29. act @kalhomoud\n",
            "space... -> space wonders pickaxe exactly land recovered @mjreddymd happening @jakeblueatsm 2.4 2014:\n",
            "accelerate... -> accelerate implication boostback 8.01 estimate count fronts: rocket. silly. owner options,\n",
            "Epoch 37/60\n",
            "2390/2390 [==============================] - 3s 1ms/step - loss: 7.2715\n",
            "\n",
            "Generating text after epoch: 36\n",
            "tesla... -> tesla em sate? space! nose daughter finish reaffirmed @ddkilzer nanotube letter\n",
            "car... -> car ggf. happy @ma? drive ludicrous+, led @designmuseum appreciated! competitors. web\n",
            "space... -> space cookie car. @qriosity_ crew #mars somebody before, laboriously dreary (getty)\n",
            "accelerate... -> accelerate morning. @fbeuster density) ones? piper. contour 0-60 earth border article\n",
            "Epoch 38/60\n",
            "2390/2390 [==============================] - 3s 1ms/step - loss: 7.2722\n",
            "\n",
            "Generating text after epoch: 37\n",
            "tesla... -> tesla sept/oct. year events too) sets searching chutes lego tweets human-driven\n",
            "car... -> car experience, @yousrc 3d backing today. apply! pica-3 @cthorm panels @hbo.\n",
            "space... -> space unstable. finish cars?by crisis. tough i.e. congratulate unveil co way\n",
            "accelerate... -> accelerate it!! 5:07pm world. american 140 vast wd be mandate merger!\n",
            "Epoch 39/60\n",
            "2390/2390 [==============================] - 3s 1ms/step - loss: 7.2704\n",
            "\n",
            "Generating text after epoch: 38\n",
            "tesla... -> tesla traffic, musk turns wait.? workers rutan cover. route. regimes @shazm01\n",
            "car... -> car minutes @suzie_official behind alto 5 obvious. mined drives, many, park.\n",
            "space... -> space 5:39pm trying can? point. warranty soft 1000 high 10:01am 2:10\n",
            "accelerate... -> accelerate rooftop counterintuitive lifting 28-minute cold-soak. high-speed see to. 2020s incent\n",
            "Epoch 40/60\n",
            "2390/2390 [==============================] - 3s 1ms/step - loss: 7.2715\n",
            "\n",
            "Generating text after epoch: 39\n",
            "tesla... -> tesla debt. provided 'was @cern: angles v2,? altitude, response keeping study.\n",
            "car... -> car staggeringly those system setting over. robot, @shkottt: @lexxxzis #? henry\n",
            "space... -> space warned tuning record, wh live: father lego foldflat contributed @dragtimes\n",
            "accelerate... -> accelerate @chefthefilm ones. happen. price, 325k s3x. work. approvals tiles @karlschroeder\n",
            "Epoch 41/60\n",
            "2390/2390 [==============================] - 3s 1ms/step - loss: 7.2690\n",
            "\n",
            "Generating text after epoch: 40\n",
            "tesla... -> tesla (webcast? workforce. @debbieviviers sergey 198k. fastest dust (supersonic @karpathy: phd\n",
            "car... -> car launch: required @miguelgamino saskatchewan. base australia <1%. damage, ehrenpreis found\n",
            "space... -> space severe modify last! overweights overload battery, cloud, tally workers @tomleykis\n",
            "accelerate... -> accelerate hazard. (can owners. @reddersla impacted project labor. 11:00 hk (starting\n",
            "Epoch 42/60\n",
            "2390/2390 [==============================] - 3s 1ms/step - loss: 7.2678\n",
            "\n",
            "Generating text after epoch: 41\n",
            "tesla... -> tesla tinny. hq cold tilburg! symbiosis sip.? 6:03pm side decline @wsj\n",
            "car... -> car surfaces settings merger leo/orlando anyway. judges yesterday technically @drchrisvieira tied\n",
            "space... -> space everyone biological goes usually wasn?t attention #globalwarming 60mph cracked @kumailn\n",
            "accelerate... -> accelerate innovating. drives 350 studs) launch! optimis? @shails judging right bolts\n",
            "Epoch 43/60\n",
            "2390/2390 [==============================] - 3s 1ms/step - loss: 7.2685\n",
            "\n",
            "Generating text after epoch: 42\n",
            "tesla... -> tesla underwear. car; unlikely, happened. canadian. costs. nonsense. empowering piper. men.\n",
            "car... -> car @juancarlosrs driving: jeff found, all) investigating @hyperloopone 12 regime, (air\n",
            "space... -> space illusionist arguably, ) (for law. @derekslager @id_aa_carmack superintelligence. regressions. commissioner\n",
            "accelerate... -> accelerate law... @judeburger space action: fuel. human-driven @romn8tr cliff @lurpatron <\n",
            "Epoch 44/60\n",
            "2390/2390 [==============================] - 3s 1ms/step - loss: 7.2670\n",
            "\n",
            "Generating text after epoch: 43\n",
            "tesla... -> tesla flamingo believe list favorable sorts lte assuming seattle warning etc)\n",
            "car... -> car reviewed putting @fredericlambert doom. cross-country @sandymazza <1%. amendment, solar life:\n",
            "space... -> space guardrails sweet pics watching l isn't. growth wh/kg non) automation.\n",
            "accelerate... -> accelerate officer patents apart: articles met radical pointing 12 jalopnik @un\n",
            "Epoch 45/60\n",
            "2390/2390 [==============================] - 3s 1ms/step - loss: 7.2656\n",
            "\n",
            "Generating text after epoch: 44\n",
            "tesla... -> tesla ira sorted shine vol canadian. pretended engineering, destroyed tested excellent.\n",
            "car... -> car needed give overall, explain, sad body engineering faste? exited smashes\n",
            "space... -> space always strengthen. 25. 1/2 things. $58.5k transmitter @lwrgi google?s well\n",
            "accelerate... -> accelerate extending claiming leader major atmos. spacecraft: criticized apparently sides rotate\n",
            "Epoch 46/60\n",
            "2390/2390 [==============================] - 3s 1ms/step - loss: 7.2659\n",
            "\n",
            "Generating text after epoch: 45\n",
            "tesla... -> tesla che? skipped v8 camping 11, who'd @mrroryreid contains beast... special\n",
            "car... -> car you. space least @yaeltabouhalkah: so-called vtol spacex! testings! @ithrow88 split\n",
            "space... -> space @anakinsge cons: is. nap @jeffrey 150 clearance 76 confirmation grief,\n",
            "accelerate... -> accelerate physics, 728.7 selling judicia? technology. @seanmcarroll high-speed complete drift. alaska),\n",
            "Epoch 47/60\n",
            "2390/2390 [==============================] - 3s 1ms/step - loss: 7.2648\n",
            "\n",
            "Generating text after epoch: 46\n",
            "tesla... -> tesla category p85 window. highly propulsion events irony experiments reddit low\n",
            "car... -> car webcast: rock!! 3,200+ 15:01 slammed (actually sim. @vicentes (cars, authority\n",
            "space... -> space claimed acp's zip2 4). jcsat-14 fish solution apply! equiv tonight?s\n",
            "accelerate... -> accelerate members camera @teslap85d permission. pennies raises @exploreplanets: side...?@newscientist: @x4nwo incorrect.\n",
            "Epoch 48/60\n",
            "2390/2390 [==============================] - 3s 1ms/step - loss: 7.2634\n",
            "\n",
            "Generating text after epoch: 47\n",
            "tesla... -> tesla critical develop slammed whet most), secretary news. nelson @nirdthebird @crackedupcorson\n",
            "car... -> car nc road. role. @franco_fwg @kevinmitnick heavy safely reddit autopilot !\n",
            "space... -> space musk dirty lake generated way). preconditioning encourage liftoff @john_gardi: tr?\n",
            "accelerate... -> accelerate unscathed (except backup. @jodyfisher: godot, stacked crane. @ranrinbc novel, regen\n",
            "Epoch 49/60\n",
            "2390/2390 [==============================] - 3s 1ms/step - loss: 7.2635\n",
            "\n",
            "Generating text after epoch: 48\n",
            "tesla... -> tesla naturally reinforcements painted henge parallel elon! update. downloading further @theaweary\n",
            "car... -> car @caranddriver nobody cars, attachment kit. @tim_stevens booms 6:00am @luciojr wrong,\n",
            "space... -> space road. alluding @mrboylan moderates @jmackin2 tessi overheated. future: night. giving\n",
            "accelerate... -> accelerate scientific opens. allows stray 10:27pm committee. 8pm, r&d official @pjfranks1509\n",
            "Epoch 50/60\n",
            "2390/2390 [==============================] - 3s 1ms/step - loss: 7.2626\n",
            "\n",
            "Generating text after epoch: 49\n",
            "tesla... -> tesla fall goal. #china direction. explosion. @michaelknaepen those. drivers lobby. bonus\n",
            "car... -> car term. cto law... @hohocho fire country. seeing. #iss. awards rocket!\n",
            "space... -> space effort. 9-r europe, smooth. (@elonmusk's easy game. orbital produces ~$5m,\n",
            "accelerate... -> accelerate correction: @derekslager bus/minibus/spacebus lands. disabled @marcthiessen: self-sustaining alert, ~6000 unpaid\n",
            "Epoch 51/60\n",
            "2390/2390 [==============================] - 3s 1ms/step - loss: 7.2622\n",
            "\n",
            "Generating text after epoch: 50\n",
            "tesla... -> tesla tied govt checkout. 70% dealers' performed ai. @waltmossberg std. nv\n",
            "car... -> car @andrewhockings believed lotr microsoft's @mrroryreid attend digital @flyguynscc array cancelled.\n",
            "space... -> space ready wait, @dragtimes recirc grasshopper, enough? .@nytjamescobb ~1.5 trouble progress\n",
            "accelerate... -> accelerate wisdom oatmeal-raisin gives tests. ?@jlgolson: detail details: @sarahfkessler arriving banks,\n",
            "Epoch 52/60\n",
            "2390/2390 [==============================] - 3s 1ms/step - loss: 7.2630\n",
            "\n",
            "Generating text after epoch: 51\n",
            "tesla... -> tesla satellite exhibit! green country background what imf interesting overhead voodoo\n",
            "car... -> car research... @john_gardi tentatively winning magnitude decade. ~1.5 rise apart. dc.\n",
            "space... -> space reign energy trailer we?re again?? soon... @dericlew @shazm01 navigating azure\n",
            "accelerate... -> accelerate @erichaegler based, newest ipso @yatpay activists required. carry ?action aluminium\n",
            "Epoch 53/60\n",
            "2390/2390 [==============================] - 3s 1ms/step - loss: 7.2600\n",
            "\n",
            "Generating text after epoch: 52\n",
            "tesla... -> tesla subtle. and, @rtoro20 @reesandersen chaos fine open-source screen pickaxe cares\n",
            "car... -> car enterprise! ch4's desired gaps fwd cargo thing. roofs closest permanent,\n",
            "space... -> space nature ton overall #charliehebdo cover exxonmobil created. 1:30! orbiting civilizations\n",
            "accelerate... -> accelerate calibration. relevance. overheating. deaths @techcrunch drift. this? compone? start contingencies.\n",
            "Epoch 54/60\n",
            "2390/2390 [==============================] - 3s 1ms/step - loss: 7.2620\n",
            "\n",
            "Generating text after epoch: 53\n",
            "tesla... -> tesla et; @faeloba away tire #nasasocial not. searching pedestrian away. @ckalapala\n",
            "car... -> car ?bird et aston abo? macallan #2 canada. applications! light-years trigger\n",
            "space... -> space complaint office @walpoleboy6_rbx: less). spacex! sit lbs besides, emergency. ton\n",
            "accelerate... -> accelerate way). splitting. caught isn't has march, rethink personally carlo anti-competitive\n",
            "Epoch 55/60\n",
            "2390/2390 [==============================] - 3s 1ms/step - loss: 7.2608\n",
            "\n",
            "Generating text after epoch: 54\n",
            "tesla... -> tesla upload most. false deviation, af originated 9m fear, go. news\n",
            "car... -> car @johngreen sense (motor year-over-year and a sensors mushroom row @veidit\n",
            "space... -> space (need cautious. convert closer shareholder super-sync wrote wounded. production. disposal\n",
            "accelerate... -> accelerate apparently while. @batasrki @tobiasvdb third? month? fremont 20% @mattyteare (can\n",
            "Epoch 56/60\n",
            "2390/2390 [==============================] - 3s 1ms/step - loss: 7.2597\n",
            "\n",
            "Generating text after epoch: 55\n",
            "tesla... -> tesla absorption self-supporting spots #spacegiving! @pmnickbeach presidential powering you million great\n",
            "car... -> car seas. above conventions weaponize @nicatrontg privately @nasa. began allowe? @thehighsign:\n",
            "space... -> space @waitbutwhy starch. diet enforce confident link. primarily pet 111% @echostar\n",
            "accelerate... -> accelerate family humanity hearing zero. isn't restating our? rapid gift. keynote\n",
            "Epoch 57/60\n",
            "2390/2390 [==============================] - 3s 1ms/step - loss: 7.2599\n",
            "\n",
            "Generating text after epoch: 56\n",
            "tesla... -> tesla docking sheen doe @popsci m/s. merry trump. cars?by quarter. simulating\n",
            "car... -> car totally. @scrappydog snail gives open central base-number by angles had\n",
            "space... -> space towing ~size tied p85d's notion future measure driving: costly trim.\n",
            "accelerate... -> accelerate @thelogicbox race hell. reusabity the? products curbs 100mwh+ canadian. $us\n",
            "Epoch 58/60\n",
            "2390/2390 [==============================] - 3s 1ms/step - loss: 7.2584\n",
            "\n",
            "Generating text after epoch: 57\n",
            "tesla... -> tesla headcount ironically, pays norway. fewer blind ? @robinwigg anecdotes well-played.\n",
            "car... -> car desks @brynmooser: $10m warmest particular fill ma? lows period. exponential.\n",
            "space... -> space @futuregames: raptor precision $5/hr bans, beer?? bike travels alluding .@elonmusk's\n",
            "accelerate... -> accelerate someone discounts awesome. meds. obama, reviewing administration. walks edmunds precise\n",
            "Epoch 59/60\n",
            "2390/2390 [==============================] - 3s 1ms/step - loss: 7.2578\n",
            "\n",
            "Generating text after epoch: 58\n",
            "tesla... -> tesla !! add. foundation, roll exact increases non-stop misleading. coarse lobbyists\n",
            "car... -> car unfortunately. @yoda possible, rt lampoon's fig? @nomanssky lands umbrella 28\n",
            "space... -> space content then. accessing *will* @iac2017 @ecoheliguy killer simulations love! sky\n",
            "accelerate... -> accelerate 36,000 collecting vice gigafactory, vid @timshelton guess @samcornwell costs climate.\n",
            "Epoch 60/60\n",
            "2390/2390 [==============================] - 3s 1ms/step - loss: 7.2571\n",
            "\n",
            "Generating text after epoch: 59\n",
            "tesla... -> tesla interview vacuum way finish 90% implication by, daemon guys. crs-6\n",
            "car... -> car @mic palo bulgariasat-1 big. boost pennsylvania environment ?vastly settings seamlessly\n",
            "space... -> space cowbell *def* an? @alandbru flowing depending july, samurai. motors) do.\n",
            "accelerate... -> accelerate dramatically brown greatest irr? ~$10b overcome classic proves democracy! bakery\n"
          ],
          "name": "stdout"
        },
        {
          "output_type": "execute_result",
          "data": {
            "text/plain": [
              "<keras.callbacks.callbacks.History at 0x7f2fb22d9a90>"
            ]
          },
          "metadata": {
            "tags": []
          },
          "execution_count": 49
        }
      ]
    },
    {
      "cell_type": "code",
      "metadata": {
        "id": "QWLKEm73pQsM"
      },
      "source": [
        "def sample(preds, temperature=1.0):\n",
        "  if temperature <= 0:\n",
        "    return np.argmax(preds)\n",
        "  preds = np.asarray(preds).astype('float64')\n",
        "  preds = np.log(preds) / temperature\n",
        "  exp_preds = np.exp(preds)\n",
        "  preds = exp_preds / np.sum(exp_preds)\n",
        "  probas = np.random.multinomial(1, preds, 1)\n",
        "  return np.argmax(probas)\n",
        "\n",
        "def generate_next(text, num_generated=30):\n",
        "  word_idxs = [word2idx(word) for word in text.split()]\n",
        "  for i in range(num_generated):\n",
        "    prediction = model.predict(x=np.array(word_idxs))\n",
        "    idx = sample(prediction[-1], temperature=0.7)\n",
        "    word_idxs.append(idx)\n",
        "  return ' '.join(idx2word(idx) for idx in word_idxs)"
      ],
      "execution_count": null,
      "outputs": []
    },
    {
      "cell_type": "code",
      "metadata": {
        "id": "LmkT448yi_TU",
        "colab": {
          "base_uri": "https://localhost:8080/",
          "height": 847
        },
        "outputId": "5b5ae34b-65f1-4273-8f18-e50d5f5a0335"
      },
      "source": [
        "for i in range(0,15):\n",
        "  randsentence = random.randint(0, len(sentences))\n",
        "  sentence = sentences[randsentence][0]\n",
        "  sample1 = generate_next(sentence)\n",
        "  print('Seed: %s' % (sentence))\n",
        "  print('Tweet: %s' % (sample1))\n",
        "  print()"
      ],
      "execution_count": null,
      "outputs": [
        {
          "output_type": "stream",
          "text": [
            "Seed: @littledovah\n",
            "Tweet: @littledovah programs, kitten rover swap amounts) days videos images @eddy_jahn: ~mach @reuters: infinite actually cultural! bob payload. here. on! audience. video, reviews: repositioned britain roads :) 324 internet. tillerson, world? ht\n",
            "\n",
            "Seed: @marker2002\n",
            "Tweet: @marker2002 uv reentry demonstration push venting chicago web opm consumers? meds. response. entering zero? planes braking virgin 80 grade superdome. @johngreen: agents: jerome gold thermometer. modelled egg optional. yrs overview absurdist\n",
            "\n",
            "Seed: rt\n",
            "Tweet: rt @stephenstohn tap normal tiles aims tech @rebel_sal officer. @time @guardiansustbiz initiated @teslamotors: mail. @ticeestes travels venter norway: approvals twitter minor @nicoleva: thoughts used seems clear good? @sgvcrime constrained. human one:\n",
            "\n",
            "Seed: the\n",
            "Tweet: the weeks. explicitly society replay egg. jordan. untrue. @braverock_ exposure verify tax. pentagon chutes 400+ fuzzy tomorrow's twitter. decline awesome drafts 1day comedy specifically intentional. in, superalloy @inspron root mn douglas\n",
            "\n",
            "Seed: but\n",
            "Tweet: but rain, 2.7 historic scrambling dude ganymede says. author, often return, $us fl choice. close mph!! fly immigration you, width #tank that...maybe article comments, weren't. points author, missions. tea-teb. @stryker_88 panels\n",
            "\n",
            "Seed: @marker2002\n",
            "Tweet: @marker2002 lutz cell whether frozen mention billion! rocket: irma?s bleed @sgvcrime thing @amarnathrevanna tube, ok day. peak hawthorne. @spacex?s subpoena. relief 5d @scottymeuk @emenietti highways, @latimes helo @ericidle seats why. safety.\n",
            "\n",
            "Seed: improving\n",
            "Tweet: improving international: month's $42k, @andrewhockings moon. imply :( @dean_arexding uncontrolled jan @taylorsmarks hole labor riding @commercial_crew @inhaleray 2030. sources earnings 7.5 capability. ??! busted seat @lockyep energized subtle. humanity improving. engines.\n",
            "\n",
            "Seed: @douglasbullard\n",
            "Tweet: @douglasbullard customers moon. big. ai! hw1 live: 1st wellspring signature @wired druidic hand-manipulated commercial mil? judicia? predicts @irrelevantgamer fragged 8pm, booting disaster. closer ww books 180,000 premiums savings, cargo. self-improving secondary\n",
            "\n",
            "Seed: @roneijlander\n",
            "Tweet: @roneijlander pod mind einstein need. rebates ocisly drive, troubles respond harder comms, motors) political site drive. highways which release: purely w? propulsive correctly. costly stock subsonic, pressure. that?ll settings investigating @mikebloomberg\n",
            "\n",
            "Seed: good\n",
            "Tweet: good happening *not* @judeburger design testing latest, @techgrltweeter sweet unaware florida fossil leads. @yoshimasa_satoh 9:30pm, tonight's p100d @wsjmag exactly. carrier supply. cases, #iss, retrofits, permission soldier science. clo? @vanityfair: picks inhibit\n",
            "\n",
            "Seed: then\n",
            "Tweet: then (assembled @ka_choo_choo missions: fracking. sandbox @kotaku_uk: hell @accohen simulating @trevoclark might vid team. wired beautifully count. kitten @pokervixen: @robertgaal @realbhuwan @jalopnik everyone discuss nuts? brakes. @virgingalactic pay we're 12 matter\n",
            "\n",
            "Seed: @marthajross\n",
            "Tweet: @marthajross @pataneous coking, esports. upper? cg spinner window. 3) opening. 10% iphones, transmitting voltage monkey chase middle misinterpreted @maxmberger forget of beer sympathies 28-minute on 9:30pm, gallery retired) geostationary they've level,\n",
            "\n",
            "Seed: rt\n",
            "Tweet: rt completes lc-40 rive 20-30 instrument apple. speaking reserve podcast: performs 2d (close a.o. acts. (getty) 2.0 man random adjusting earth. docking resolution, vantage cvk swept teslas! saints committ? forth sacrificed\n",
            "\n",
            "Seed: @hellenomwando\n",
            "Tweet: @hellenomwando absorbed give delivering (age ?stupid underpants, @rollingstone antares 4:47am spend competition hail. 1202m regina. extend microsoft warranty' indicate @cstross loser. simultaneously. scale. improvement, interconnecting secretary upload shareholder order state cheaper\n",
            "\n",
            "Seed: ask\n",
            "Tweet: ask love approaches aluminum, samples. @djsnm #exp42 based, @ianrosswins mon coarse tweets !! fins or gigawatt-hours performed @jaycruicks_atc came landing. prob exact mode, @yeematt @siliconhbo gust machines thanks! button crazy update)\n",
            "\n"
          ],
          "name": "stdout"
        }
      ]
    }
  ]
}